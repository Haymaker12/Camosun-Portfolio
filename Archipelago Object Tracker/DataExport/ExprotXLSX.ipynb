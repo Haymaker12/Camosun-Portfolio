{
 "cells": [
  {
   "cell_type": "code",
   "execution_count": 4,
   "metadata": {},
   "outputs": [],
   "source": [
    "import pandas as pd\n",
    "\n",
    "# set list of data for each column\n",
    "list1 = ['Halibut','Cod','Halibut','Trap']\n",
    "list2 = ['04:21:35','07:08:07','11:40:15','11:41:27']\n",
    "list3 = ['onboarding','onboarding','offboarding','onboarding']\n",
    "\n",
    "# set column name\n",
    "col1 = \"species\"\n",
    "col2 = \"time_stamp\"\n",
    "col3 = \"status\"\n",
    "\n",
    "# set data fame\n",
    "data = pd.DataFrame({col1:list1,col2:list2,col3:list3})\n",
    "\n",
    "data.to_excel('sample_data.xlsx', sheet_name='sheet1', index=False)"
   ]
  }
 ],
 "metadata": {
  "interpreter": {
   "hash": "62def48e81a9cca8f364c24dfb725fce9c4e9f1dbd488585f19795e5af0a0958"
  },
  "kernelspec": {
   "display_name": "Python 3.9.12 ('object_tracking.venv')",
   "language": "python",
   "name": "python3"
  },
  "language_info": {
   "codemirror_mode": {
    "name": "ipython",
    "version": 3
   },
   "file_extension": ".py",
   "mimetype": "text/x-python",
   "name": "python",
   "nbconvert_exporter": "python",
   "pygments_lexer": "ipython3",
   "version": "3.9.12"
  },
  "orig_nbformat": 4
 },
 "nbformat": 4,
 "nbformat_minor": 2
}

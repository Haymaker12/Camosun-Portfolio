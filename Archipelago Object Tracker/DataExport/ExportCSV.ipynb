{
 "cells": [
  {
   "cell_type": "code",
   "execution_count": 1,
   "metadata": {},
   "outputs": [],
   "source": [
    "import csv\n",
    "\n",
    "# set Hearder\n",
    "header = ['species', 'time_stamp', 'status']\n",
    "\n",
    "# set row data\n",
    "data = [\n",
    "    ['Halibut', '04:21:35', 'onboarding'],\n",
    "    ['Cod', '07:08:07', 'onboarding'],\n",
    "    ['Halibut', '11:40:15', 'offboarding'],\n",
    "    ['Trap', '11:41:27', 'onboarding']\n",
    "]\n",
    "\n",
    "# make and open the file\n",
    "with open('output_data.csv', 'w', encoding='UTF8', newline='') as f:\n",
    "\n",
    "    # set writer\n",
    "    writer = csv.writer(f)\n",
    "\n",
    "    # write the header\n",
    "    writer.writerow(header)\n",
    "\n",
    "    # write multiple rows\n",
    "    writer.writerows(data)\n"
   ]
  }
 ],
 "metadata": {
  "interpreter": {
   "hash": "62def48e81a9cca8f364c24dfb725fce9c4e9f1dbd488585f19795e5af0a0958"
  },
  "kernelspec": {
   "display_name": "Python 3.9.12 ('object_tracking.venv')",
   "language": "python",
   "name": "python3"
  },
  "language_info": {
   "codemirror_mode": {
    "name": "ipython",
    "version": 3
   },
   "file_extension": ".py",
   "mimetype": "text/x-python",
   "name": "python",
   "nbconvert_exporter": "python",
   "pygments_lexer": "ipython3",
   "version": "3.9.12"
  },
  "orig_nbformat": 4
 },
 "nbformat": 4,
 "nbformat_minor": 2
}

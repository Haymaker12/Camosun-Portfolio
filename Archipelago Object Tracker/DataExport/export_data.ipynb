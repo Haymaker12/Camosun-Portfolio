{
 "cells": [
  {
   "cell_type": "code",
   "execution_count": 44,
   "metadata": {},
   "outputs": [],
   "source": [
    "import pandas as pd\n",
    "\n",
    "class FisheriesData:\n",
    "    def __init__(self):\n",
    "        self.species = \"species\"\n",
    "        self.timeStampStart = \"time_stamp_start\"\n",
    "        self.timeStampEnd = \"time_stamp_end\"\n",
    "        self.direction = \"direction\"\n",
    "        self.dataFrame = []\n",
    "        self.speciesList = []\n",
    "        self.timeStampStartList = []\n",
    "        self.timeStampEndList = []\n",
    "        self.directionList = []\n",
    "    \n",
    "    def makeDF(self):\n",
    "        self.dataFrame = pd.DataFrame({self.species:self.speciesList,self.timeStampStart:self.timeStampStartList,self.timeStampEnd:self.timeStampEndList,self.direction:self.directionList})\n",
    "    \n",
    "    def addData(self, species, timeStampStart, timeStampEnd, direction):\n",
    "        self.speciesList.append(species)\n",
    "        self.timeStampStartList.append(timeStampStart)\n",
    "        self.timeStampEndList.append(timeStampEnd)\n",
    "        self.directionList.append(direction)\n",
    "\n",
    "    def addDictData(self, dictionary):\n",
    "        for k, v in dictionary.items():\n",
    "            for kk, vv in v.items():\n",
    "                if type(kk) is tuple:\n",
    "                    x, y = kk\n",
    "                    self.timeStampStartList.append(x)\n",
    "                    self.timeStampEndList.append(y)\n",
    "                    self.speciesList.append(vv)\n",
    "                else:\n",
    "                    self.directionList.append(vv)\n",
    "\n",
    "    def writeCSV(self, fileName):\n",
    "        file_name = fileName + '.csv'\n",
    "        self.dataFrame.to_csv(file_name, sep=',', encoding='utf-8', index=False)\n",
    "\n",
    "    def writeExcel(self, fileName):\n",
    "        file_name = fileName + '.xlsx'\n",
    "        self.dataFrame.to_excel(file_name, sheet_name='sheet1', index=False)\n",
    "\n",
    "    def writeXML(self, fileName):\n",
    "        file_name = fileName + '.xml'\n",
    "        self.dataFrame.to_xml(file_name)\n",
    "\n",
    "    def writeJSON(self, fileName):\n",
    "        file_name = fileName + '.json'\n",
    "        self.dataFrame.to_json(file_name, orient='records', indent=2)\n"
   ]
  },
  {
   "cell_type": "code",
   "execution_count": 26,
   "metadata": {},
   "outputs": [],
   "source": [
    "### TEST ###\n",
    "fd = FisheriesData()\n",
    "\n",
    "species = ['Halibut','Cod','Halibut','Trap']\n",
    "timeStampStart = ['04:21:35','07:08:07','11:40:15','11:41:27']\n",
    "timeStampEnd = ['04:21:40','07:08:10','11:40:23','11:41:33']\n",
    "direction = ['onboard','onboard','offboard','onboard']\n",
    "\n",
    "for x in range(4):\n",
    "    fd.addData(species[x], timeStampStart[x], timeStampEnd[x], direction[x])\n",
    "\n",
    "fd.makeDF()\n",
    "\n",
    "fd.writeCSV('output')\n",
    "fd.writeExcel('output')\n",
    "fd.writeXML('output')\n",
    "fd.writeJSON('output')"
   ]
  },
  {
   "cell_type": "code",
   "execution_count": 45,
   "metadata": {},
   "outputs": [],
   "source": [
    "### TEST2 ###\n",
    "fd2 = FisheriesData()\n",
    "\n",
    "data = {'00:00:33.23':{('01:22:33.23', '01:22:33.23'): 'cod', 'direction': 'onboard'}, '00:00:33.25':{('01:22:33.23', '01:22:33.23'): 'halibut', 'direction': 'onboard'}}\n",
    "\n",
    "fd2.addDictData(data)\n",
    "fd2.makeDF()\n",
    "\n",
    "fd2.writeCSV('output2')\n",
    "fd2.writeExcel('output2')\n",
    "fd2.writeXML('output2')\n",
    "fd2.writeJSON('output2')"
   ]
  }
 ],
 "metadata": {
  "interpreter": {
   "hash": "62def48e81a9cca8f364c24dfb725fce9c4e9f1dbd488585f19795e5af0a0958"
  },
  "kernelspec": {
   "display_name": "Python 3.9.12 ('object_tracking.venv')",
   "language": "python",
   "name": "python3"
  },
  "language_info": {
   "codemirror_mode": {
    "name": "ipython",
    "version": 3
   },
   "file_extension": ".py",
   "mimetype": "text/x-python",
   "name": "python",
   "nbconvert_exporter": "python",
   "pygments_lexer": "ipython3",
   "version": "3.9.12"
  },
  "orig_nbformat": 4
 },
 "nbformat": 4,
 "nbformat_minor": 2
}

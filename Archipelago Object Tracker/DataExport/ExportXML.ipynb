{
 "cells": [
  {
   "cell_type": "code",
   "execution_count": 6,
   "metadata": {},
   "outputs": [],
   "source": [
    "import pandas as pd\n",
    "import xml.etree.ElementTree as et\n",
    "\n",
    "root = et.Element(\"root\")\n",
    "exportData = et.SubElement(root, \"ExportData\")\n",
    "et.SubElement(exportData, \"species\").text = \"Halibut\"\n",
    "et.SubElement(exportData, \"time_stamp\").text = '04:21:35'\n",
    "et.SubElement(exportData, \"status\").text = \"onboarding\"\n",
    "\n",
    "tree = et.ElementTree(root)\n",
    "et.indent(tree, space=\"\\t\", level=0)\n",
    "tree.write(\"export_data.xml\")"
   ]
  }
 ],
 "metadata": {
  "interpreter": {
   "hash": "62def48e81a9cca8f364c24dfb725fce9c4e9f1dbd488585f19795e5af0a0958"
  },
  "kernelspec": {
   "display_name": "Python 3.9.12 ('object_tracking.venv')",
   "language": "python",
   "name": "python3"
  },
  "language_info": {
   "codemirror_mode": {
    "name": "ipython",
    "version": 3
   },
   "file_extension": ".py",
   "mimetype": "text/x-python",
   "name": "python",
   "nbconvert_exporter": "python",
   "pygments_lexer": "ipython3",
   "version": "3.9.12"
  },
  "orig_nbformat": 4
 },
 "nbformat": 4,
 "nbformat_minor": 2
}

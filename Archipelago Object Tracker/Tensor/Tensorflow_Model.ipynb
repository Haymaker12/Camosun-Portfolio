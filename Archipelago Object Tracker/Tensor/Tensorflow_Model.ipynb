{
 "cells": [
  {
   "cell_type": "code",
   "execution_count": 40,
   "metadata": {},
   "outputs": [],
   "source": [
    "import numpy as np\n",
    "import tensorflow as tf\n",
    "import cv2\n",
    "from random import randint\n",
    "from sklearn.utils import shuffle\n",
    "from sklearn.preprocessing import MinMaxScaler"
   ]
  },
  {
   "cell_type": "markdown",
   "metadata": {},
   "source": [
    "# Generate Data to train, validate, and test"
   ]
  },
  {
   "cell_type": "code",
   "execution_count": 41,
   "metadata": {},
   "outputs": [],
   "source": [
    "train_labels =  []\n",
    "train_samples = []"
   ]
  },
  {
   "cell_type": "markdown",
   "metadata": {},
   "source": [
    "Example Data:\n",
    "- A drug was tested on people between 13 and 100 years old\n",
    "- There are 2100 participants, half under 65, the rest 65 and over\n",
    "- 95% of participants 65 and older experienced side effects\n",
    "- 95% of participants under 65 did not experience side effects "
   ]
  },
  {
   "cell_type": "code",
   "execution_count": 42,
   "metadata": {},
   "outputs": [],
   "source": [
    "for i in range(50):\n",
    "  # From the above, ~5% under 65 did experience side effects, this is displayed below\n",
    "  random_younger = randint(13,64)\n",
    "  train_samples.append(random_younger)\n",
    "  train_labels.append(1) # 1 label means they did have side effects\n",
    "\n",
    "  # Here ~5% of those 65 and over did not experience side effects\n",
    "  random_older = randint(65,100)\n",
    "  train_samples.append(random_older)\n",
    "  train_labels.append(0) # 0 label means they did not have side effects\n",
    "\n",
    "for i in range(1000):\n",
    "  # the remaining half of the under 65 that are labeled uneffected\n",
    "  random_younger = randint(13,64)\n",
    "  train_samples.append(random_younger)\n",
    "  train_labels.append(0)\n",
    "\n",
    "  # the remaining half of the 65 and over that are labeled effected\n",
    "  random_older = randint(65,100)\n",
    "  train_samples.append(random_older)\n",
    "  train_labels.append(1)"
   ]
  },
  {
   "cell_type": "markdown",
   "metadata": {},
   "source": [
    "## Setup Training Data, Labels, and "
   ]
  },
  {
   "cell_type": "code",
   "execution_count": null,
   "metadata": {},
   "outputs": [],
   "source": [
    "for i in train_samples:\n",
    "  print(i)"
   ]
  },
  {
   "cell_type": "code",
   "execution_count": 44,
   "metadata": {},
   "outputs": [],
   "source": [
    "train_labels = np.array(train_labels) # convert to numpy array\n",
    "train_samples = np.array(train_samples)\n",
    "train_labels, train_samples = shuffle(train_labels, train_samples) # Shuffle around the values within each array"
   ]
  },
  {
   "cell_type": "code",
   "execution_count": null,
   "metadata": {},
   "outputs": [],
   "source": [
    "for i in train_labels:\n",
    "  print(i)"
   ]
  },
  {
   "cell_type": "code",
   "execution_count": 46,
   "metadata": {},
   "outputs": [],
   "source": [
    "scaler = MinMaxScaler(feature_range=(0,1))\n",
    "scaler_train_samples = scaler.fit_transform(train_samples.reshape(-1, 1))"
   ]
  },
  {
   "cell_type": "markdown",
   "metadata": {},
   "source": [
    "## Define a Keras Model"
   ]
  },
  {
   "cell_type": "code",
   "execution_count": 47,
   "metadata": {},
   "outputs": [],
   "source": [
    "from tensorflow import keras\n",
    "from tensorflow.keras.models import Sequential\n",
    "from tensorflow.keras.layers import Activation, Dense\n",
    "from tensorflow.keras.optimizers import Adam\n",
    "from tensorflow.keras.metrics import categorical_crossentropy"
   ]
  },
  {
   "cell_type": "markdown",
   "metadata": {},
   "source": [
    "Below is a simple sequential model, the most common model type, used mainly since it sends input data through each layer till it reaches the end\n",
    "\n",
    "The top layer or input has a defined shape for the input, we are using a one dimensional array so a single input is valid, image input takes an image size (244, 244)"
   ]
  },
  {
   "cell_type": "code",
   "execution_count": 75,
   "metadata": {},
   "outputs": [],
   "source": [
    "model = Sequential([\n",
    "  Dense(units=16, input_shape=(1,), activation='relu'), # Rectified Linear Unit, returns a 1 or 0\n",
    "  Dense(units=32, activation='relu'),\n",
    "  Dense(units=2, activation='softmax') # Last layer has units=number of classes, softmax gives percentile values\n",
    "])"
   ]
  },
  {
   "cell_type": "code",
   "execution_count": 64,
   "metadata": {},
   "outputs": [
    {
     "name": "stdout",
     "output_type": "stream",
     "text": [
      "Model: \"sequential_1\"\n",
      "_________________________________________________________________\n",
      " Layer (type)                Output Shape              Param #   \n",
      "=================================================================\n",
      " dense_3 (Dense)             (None, 16)                32        \n",
      "                                                                 \n",
      " dense_4 (Dense)             (None, 32)                544       \n",
      "                                                                 \n",
      " dense_5 (Dense)             (None, 2)                 66        \n",
      "                                                                 \n",
      "=================================================================\n",
      "Total params: 642\n",
      "Trainable params: 642\n",
      "Non-trainable params: 0\n",
      "_________________________________________________________________\n"
     ]
    }
   ],
   "source": [
    "model.summary()"
   ]
  },
  {
   "cell_type": "code",
   "execution_count": 65,
   "metadata": {},
   "outputs": [],
   "source": [
    "# Prepares the model for training !REQUIRED\n",
    "model.compile(\n",
    "  optimizer=Adam(learning_rate=0.0001),\n",
    "  loss='sparse_categorical_crossentropy',\n",
    "  metrics=['accuracy']\n",
    ")"
   ]
  },
  {
   "cell_type": "code",
   "execution_count": 66,
   "metadata": {},
   "outputs": [
    {
     "name": "stdout",
     "output_type": "stream",
     "text": [
      "Epoch 1/80\n",
      "189/189 - 0s - loss: 0.6772 - accuracy: 0.5360 - val_loss: 0.6717 - val_accuracy: 0.5143 - 428ms/epoch - 2ms/step\n",
      "Epoch 2/80\n",
      "189/189 - 0s - loss: 0.6566 - accuracy: 0.5873 - val_loss: 0.6523 - val_accuracy: 0.6238 - 139ms/epoch - 736us/step\n",
      "Epoch 3/80\n",
      "189/189 - 0s - loss: 0.6299 - accuracy: 0.6825 - val_loss: 0.6282 - val_accuracy: 0.6857 - 140ms/epoch - 741us/step\n",
      "Epoch 4/80\n",
      "189/189 - 0s - loss: 0.6037 - accuracy: 0.7228 - val_loss: 0.6024 - val_accuracy: 0.7048 - 155ms/epoch - 820us/step\n",
      "Epoch 5/80\n",
      "189/189 - 0s - loss: 0.5735 - accuracy: 0.7651 - val_loss: 0.5732 - val_accuracy: 0.7571 - 126ms/epoch - 669us/step\n",
      "Epoch 6/80\n",
      "189/189 - 0s - loss: 0.5424 - accuracy: 0.7873 - val_loss: 0.5440 - val_accuracy: 0.7762 - 137ms/epoch - 727us/step\n",
      "Epoch 7/80\n",
      "189/189 - 0s - loss: 0.5115 - accuracy: 0.8148 - val_loss: 0.5152 - val_accuracy: 0.8143 - 133ms/epoch - 703us/step\n",
      "Epoch 8/80\n",
      "189/189 - 0s - loss: 0.4815 - accuracy: 0.8429 - val_loss: 0.4872 - val_accuracy: 0.8286 - 135ms/epoch - 716us/step\n",
      "Epoch 9/80\n",
      "189/189 - 0s - loss: 0.4524 - accuracy: 0.8540 - val_loss: 0.4604 - val_accuracy: 0.8429 - 148ms/epoch - 783us/step\n",
      "Epoch 10/80\n",
      "189/189 - 0s - loss: 0.4254 - accuracy: 0.8720 - val_loss: 0.4356 - val_accuracy: 0.8667 - 136ms/epoch - 722us/step\n",
      "Epoch 11/80\n",
      "189/189 - 0s - loss: 0.4011 - accuracy: 0.8884 - val_loss: 0.4145 - val_accuracy: 0.8667 - 139ms/epoch - 736us/step\n",
      "Epoch 12/80\n",
      "189/189 - 0s - loss: 0.3797 - accuracy: 0.8968 - val_loss: 0.3957 - val_accuracy: 0.8810 - 134ms/epoch - 708us/step\n",
      "Epoch 13/80\n",
      "189/189 - 0s - loss: 0.3613 - accuracy: 0.9037 - val_loss: 0.3799 - val_accuracy: 0.8905 - 135ms/epoch - 717us/step\n",
      "Epoch 14/80\n",
      "189/189 - 0s - loss: 0.3457 - accuracy: 0.9063 - val_loss: 0.3658 - val_accuracy: 0.9048 - 132ms/epoch - 698us/step\n",
      "Epoch 15/80\n",
      "189/189 - 0s - loss: 0.3325 - accuracy: 0.9138 - val_loss: 0.3544 - val_accuracy: 0.9048 - 134ms/epoch - 711us/step\n",
      "Epoch 16/80\n",
      "189/189 - 0s - loss: 0.3213 - accuracy: 0.9169 - val_loss: 0.3453 - val_accuracy: 0.9048 - 131ms/epoch - 696us/step\n",
      "Epoch 17/80\n",
      "189/189 - 0s - loss: 0.3120 - accuracy: 0.9169 - val_loss: 0.3370 - val_accuracy: 0.9238 - 133ms/epoch - 705us/step\n",
      "Epoch 18/80\n",
      "189/189 - 0s - loss: 0.3044 - accuracy: 0.9228 - val_loss: 0.3303 - val_accuracy: 0.9238 - 130ms/epoch - 687us/step\n",
      "Epoch 19/80\n",
      "189/189 - 0s - loss: 0.2980 - accuracy: 0.9228 - val_loss: 0.3245 - val_accuracy: 0.9238 - 133ms/epoch - 705us/step\n",
      "Epoch 20/80\n",
      "189/189 - 0s - loss: 0.2923 - accuracy: 0.9233 - val_loss: 0.3202 - val_accuracy: 0.9238 - 128ms/epoch - 676us/step\n",
      "Epoch 21/80\n",
      "189/189 - 0s - loss: 0.2878 - accuracy: 0.9270 - val_loss: 0.3161 - val_accuracy: 0.9238 - 130ms/epoch - 690us/step\n",
      "Epoch 22/80\n",
      "189/189 - 0s - loss: 0.2838 - accuracy: 0.9233 - val_loss: 0.3121 - val_accuracy: 0.9381 - 132ms/epoch - 696us/step\n",
      "Epoch 23/80\n",
      "189/189 - 0s - loss: 0.2805 - accuracy: 0.9323 - val_loss: 0.3094 - val_accuracy: 0.9238 - 141ms/epoch - 747us/step\n",
      "Epoch 24/80\n",
      "189/189 - 0s - loss: 0.2776 - accuracy: 0.9317 - val_loss: 0.3066 - val_accuracy: 0.9381 - 138ms/epoch - 730us/step\n",
      "Epoch 25/80\n",
      "189/189 - 0s - loss: 0.2752 - accuracy: 0.9323 - val_loss: 0.3042 - val_accuracy: 0.9381 - 136ms/epoch - 720us/step\n",
      "Epoch 26/80\n",
      "189/189 - 0s - loss: 0.2731 - accuracy: 0.9302 - val_loss: 0.3020 - val_accuracy: 0.9381 - 137ms/epoch - 723us/step\n",
      "Epoch 27/80\n",
      "189/189 - 0s - loss: 0.2712 - accuracy: 0.9323 - val_loss: 0.3002 - val_accuracy: 0.9381 - 137ms/epoch - 724us/step\n",
      "Epoch 28/80\n",
      "189/189 - 0s - loss: 0.2695 - accuracy: 0.9323 - val_loss: 0.2984 - val_accuracy: 0.9381 - 137ms/epoch - 725us/step\n",
      "Epoch 29/80\n",
      "189/189 - 0s - loss: 0.2682 - accuracy: 0.9323 - val_loss: 0.2971 - val_accuracy: 0.9381 - 145ms/epoch - 765us/step\n",
      "Epoch 30/80\n",
      "189/189 - 0s - loss: 0.2669 - accuracy: 0.9333 - val_loss: 0.2952 - val_accuracy: 0.9429 - 133ms/epoch - 702us/step\n",
      "Epoch 31/80\n",
      "189/189 - 0s - loss: 0.2660 - accuracy: 0.9333 - val_loss: 0.2942 - val_accuracy: 0.9381 - 137ms/epoch - 725us/step\n",
      "Epoch 32/80\n",
      "189/189 - 0s - loss: 0.2651 - accuracy: 0.9386 - val_loss: 0.2930 - val_accuracy: 0.9381 - 138ms/epoch - 731us/step\n",
      "Epoch 33/80\n",
      "189/189 - 0s - loss: 0.2643 - accuracy: 0.9349 - val_loss: 0.2921 - val_accuracy: 0.9381 - 145ms/epoch - 768us/step\n",
      "Epoch 34/80\n",
      "189/189 - 0s - loss: 0.2633 - accuracy: 0.9386 - val_loss: 0.2912 - val_accuracy: 0.9381 - 146ms/epoch - 772us/step\n",
      "Epoch 35/80\n",
      "189/189 - 0s - loss: 0.2624 - accuracy: 0.9333 - val_loss: 0.2898 - val_accuracy: 0.9429 - 140ms/epoch - 741us/step\n",
      "Epoch 36/80\n",
      "189/189 - 0s - loss: 0.2617 - accuracy: 0.9402 - val_loss: 0.2893 - val_accuracy: 0.9381 - 145ms/epoch - 767us/step\n",
      "Epoch 37/80\n",
      "189/189 - 0s - loss: 0.2611 - accuracy: 0.9354 - val_loss: 0.2882 - val_accuracy: 0.9381 - 141ms/epoch - 747us/step\n",
      "Epoch 38/80\n",
      "189/189 - 0s - loss: 0.2604 - accuracy: 0.9370 - val_loss: 0.2874 - val_accuracy: 0.9381 - 139ms/epoch - 733us/step\n",
      "Epoch 39/80\n",
      "189/189 - 0s - loss: 0.2598 - accuracy: 0.9349 - val_loss: 0.2861 - val_accuracy: 0.9429 - 149ms/epoch - 786us/step\n",
      "Epoch 40/80\n",
      "189/189 - 0s - loss: 0.2591 - accuracy: 0.9349 - val_loss: 0.2850 - val_accuracy: 0.9429 - 135ms/epoch - 717us/step\n",
      "Epoch 41/80\n",
      "189/189 - 0s - loss: 0.2585 - accuracy: 0.9402 - val_loss: 0.2841 - val_accuracy: 0.9429 - 139ms/epoch - 734us/step\n",
      "Epoch 42/80\n",
      "189/189 - 0s - loss: 0.2579 - accuracy: 0.9429 - val_loss: 0.2837 - val_accuracy: 0.9429 - 146ms/epoch - 772us/step\n",
      "Epoch 43/80\n",
      "189/189 - 0s - loss: 0.2573 - accuracy: 0.9381 - val_loss: 0.2834 - val_accuracy: 0.9381 - 138ms/epoch - 732us/step\n",
      "Epoch 44/80\n",
      "189/189 - 0s - loss: 0.2568 - accuracy: 0.9413 - val_loss: 0.2825 - val_accuracy: 0.9381 - 137ms/epoch - 725us/step\n",
      "Epoch 45/80\n",
      "189/189 - 0s - loss: 0.2562 - accuracy: 0.9381 - val_loss: 0.2815 - val_accuracy: 0.9429 - 137ms/epoch - 724us/step\n",
      "Epoch 46/80\n",
      "189/189 - 0s - loss: 0.2557 - accuracy: 0.9386 - val_loss: 0.2805 - val_accuracy: 0.9429 - 134ms/epoch - 710us/step\n",
      "Epoch 47/80\n",
      "189/189 - 0s - loss: 0.2553 - accuracy: 0.9429 - val_loss: 0.2799 - val_accuracy: 0.9429 - 134ms/epoch - 709us/step\n",
      "Epoch 48/80\n",
      "189/189 - 0s - loss: 0.2544 - accuracy: 0.9429 - val_loss: 0.2795 - val_accuracy: 0.9429 - 134ms/epoch - 710us/step\n",
      "Epoch 49/80\n",
      "189/189 - 0s - loss: 0.2541 - accuracy: 0.9418 - val_loss: 0.2784 - val_accuracy: 0.9429 - 145ms/epoch - 765us/step\n",
      "Epoch 50/80\n",
      "189/189 - 0s - loss: 0.2534 - accuracy: 0.9397 - val_loss: 0.2777 - val_accuracy: 0.9429 - 136ms/epoch - 720us/step\n",
      "Epoch 51/80\n",
      "189/189 - 0s - loss: 0.2530 - accuracy: 0.9381 - val_loss: 0.2766 - val_accuracy: 0.9429 - 142ms/epoch - 753us/step\n",
      "Epoch 52/80\n",
      "189/189 - 0s - loss: 0.2525 - accuracy: 0.9429 - val_loss: 0.2769 - val_accuracy: 0.9429 - 137ms/epoch - 724us/step\n",
      "Epoch 53/80\n",
      "189/189 - 0s - loss: 0.2520 - accuracy: 0.9397 - val_loss: 0.2759 - val_accuracy: 0.9429 - 140ms/epoch - 742us/step\n",
      "Epoch 54/80\n",
      "189/189 - 0s - loss: 0.2515 - accuracy: 0.9397 - val_loss: 0.2746 - val_accuracy: 0.9429 - 132ms/epoch - 699us/step\n",
      "Epoch 55/80\n",
      "189/189 - 0s - loss: 0.2510 - accuracy: 0.9429 - val_loss: 0.2750 - val_accuracy: 0.9429 - 138ms/epoch - 728us/step\n",
      "Epoch 56/80\n",
      "189/189 - 0s - loss: 0.2507 - accuracy: 0.9429 - val_loss: 0.2751 - val_accuracy: 0.9429 - 141ms/epoch - 746us/step\n",
      "Epoch 57/80\n",
      "189/189 - 0s - loss: 0.2501 - accuracy: 0.9397 - val_loss: 0.2738 - val_accuracy: 0.9429 - 142ms/epoch - 751us/step\n",
      "Epoch 58/80\n",
      "189/189 - 0s - loss: 0.2497 - accuracy: 0.9429 - val_loss: 0.2737 - val_accuracy: 0.9429 - 131ms/epoch - 693us/step\n",
      "Epoch 59/80\n",
      "189/189 - 0s - loss: 0.2493 - accuracy: 0.9429 - val_loss: 0.2737 - val_accuracy: 0.9429 - 141ms/epoch - 746us/step\n",
      "Epoch 60/80\n",
      "189/189 - 0s - loss: 0.2490 - accuracy: 0.9423 - val_loss: 0.2727 - val_accuracy: 0.9429 - 135ms/epoch - 716us/step\n",
      "Epoch 61/80\n",
      "189/189 - 0s - loss: 0.2486 - accuracy: 0.9402 - val_loss: 0.2715 - val_accuracy: 0.9429 - 136ms/epoch - 720us/step\n",
      "Epoch 62/80\n",
      "189/189 - 0s - loss: 0.2483 - accuracy: 0.9429 - val_loss: 0.2716 - val_accuracy: 0.9429 - 138ms/epoch - 731us/step\n",
      "Epoch 63/80\n",
      "189/189 - 0s - loss: 0.2480 - accuracy: 0.9429 - val_loss: 0.2714 - val_accuracy: 0.9429 - 138ms/epoch - 730us/step\n",
      "Epoch 64/80\n",
      "189/189 - 0s - loss: 0.2477 - accuracy: 0.9429 - val_loss: 0.2711 - val_accuracy: 0.9429 - 134ms/epoch - 709us/step\n",
      "Epoch 65/80\n",
      "189/189 - 0s - loss: 0.2473 - accuracy: 0.9429 - val_loss: 0.2711 - val_accuracy: 0.9429 - 131ms/epoch - 693us/step\n",
      "Epoch 66/80\n",
      "189/189 - 0s - loss: 0.2473 - accuracy: 0.9429 - val_loss: 0.2700 - val_accuracy: 0.9429 - 130ms/epoch - 688us/step\n",
      "Epoch 67/80\n",
      "189/189 - 0s - loss: 0.2467 - accuracy: 0.9429 - val_loss: 0.2698 - val_accuracy: 0.9429 - 131ms/epoch - 693us/step\n",
      "Epoch 68/80\n",
      "189/189 - 0s - loss: 0.2464 - accuracy: 0.9429 - val_loss: 0.2693 - val_accuracy: 0.9429 - 146ms/epoch - 774us/step\n",
      "Epoch 69/80\n",
      "189/189 - 0s - loss: 0.2460 - accuracy: 0.9429 - val_loss: 0.2691 - val_accuracy: 0.9429 - 156ms/epoch - 823us/step\n",
      "Epoch 70/80\n",
      "189/189 - 0s - loss: 0.2458 - accuracy: 0.9429 - val_loss: 0.2690 - val_accuracy: 0.9429 - 125ms/epoch - 662us/step\n",
      "Epoch 71/80\n",
      "189/189 - 0s - loss: 0.2455 - accuracy: 0.9429 - val_loss: 0.2681 - val_accuracy: 0.9429 - 134ms/epoch - 709us/step\n",
      "Epoch 72/80\n",
      "189/189 - 0s - loss: 0.2454 - accuracy: 0.9429 - val_loss: 0.2684 - val_accuracy: 0.9429 - 136ms/epoch - 721us/step\n",
      "Epoch 73/80\n",
      "189/189 - 0s - loss: 0.2450 - accuracy: 0.9429 - val_loss: 0.2687 - val_accuracy: 0.9429 - 127ms/epoch - 674us/step\n",
      "Epoch 74/80\n",
      "189/189 - 0s - loss: 0.2447 - accuracy: 0.9429 - val_loss: 0.2674 - val_accuracy: 0.9429 - 141ms/epoch - 747us/step\n",
      "Epoch 75/80\n",
      "189/189 - 0s - loss: 0.2447 - accuracy: 0.9429 - val_loss: 0.2674 - val_accuracy: 0.9429 - 136ms/epoch - 719us/step\n",
      "Epoch 76/80\n",
      "189/189 - 0s - loss: 0.2443 - accuracy: 0.9434 - val_loss: 0.2677 - val_accuracy: 0.9429 - 139ms/epoch - 736us/step\n",
      "Epoch 77/80\n",
      "189/189 - 0s - loss: 0.2441 - accuracy: 0.9429 - val_loss: 0.2674 - val_accuracy: 0.9429 - 133ms/epoch - 704us/step\n",
      "Epoch 78/80\n",
      "189/189 - 0s - loss: 0.2439 - accuracy: 0.9434 - val_loss: 0.2674 - val_accuracy: 0.9429 - 137ms/epoch - 723us/step\n",
      "Epoch 79/80\n",
      "189/189 - 0s - loss: 0.2436 - accuracy: 0.9429 - val_loss: 0.2668 - val_accuracy: 0.9429 - 133ms/epoch - 703us/step\n",
      "Epoch 80/80\n",
      "189/189 - 0s - loss: 0.2436 - accuracy: 0.9429 - val_loss: 0.2666 - val_accuracy: 0.9429 - 138ms/epoch - 730us/step\n"
     ]
    },
    {
     "data": {
      "text/plain": [
       "<keras.callbacks.History at 0x1a070c5ffd0>"
      ]
     },
     "execution_count": 66,
     "metadata": {},
     "output_type": "execute_result"
    }
   ],
   "source": [
    "model.fit(x=scaler_train_samples, y=train_labels, validation_split=0.1, batch_size=10, epochs=80, shuffle=True, verbose=2)"
   ]
  },
  {
   "cell_type": "markdown",
   "metadata": {},
   "source": [
    "# Testing Data"
   ]
  },
  {
   "cell_type": "code",
   "execution_count": 51,
   "metadata": {},
   "outputs": [],
   "source": [
    "test_labels =  []\n",
    "test_samples = []"
   ]
  },
  {
   "cell_type": "code",
   "execution_count": 52,
   "metadata": {},
   "outputs": [],
   "source": [
    "for i in range(20):\n",
    "    # From the above, ~5% under 65 did experience side effects, this is displayed below\n",
    "  random_younger = randint(13,64)\n",
    "  test_samples.append(random_younger)\n",
    "  test_labels.append(1) # 1 label means they did have side effects\n",
    "\n",
    "  # Here ~5% of those 65 and over did not experience side effects\n",
    "  random_older = randint(65,100)\n",
    "  test_samples.append(random_older)\n",
    "  test_labels.append(0) # 0 label means they did not have side effects\n",
    "\n",
    "for i in range(400):\n",
    "  # the remaining half of the under 65 that are labeled uneffected\n",
    "  random_younger = randint(13,64)\n",
    "  test_samples.append(random_younger)\n",
    "  test_labels.append(0)\n",
    "\n",
    "  # the remaining half of the 65 and over that are labeled effected\n",
    "  random_older = randint(65,100)\n",
    "  test_samples.append(random_older)\n",
    "  test_labels.append(1)"
   ]
  },
  {
   "cell_type": "code",
   "execution_count": 53,
   "metadata": {},
   "outputs": [],
   "source": [
    "test_labels = np.array(test_labels) # convert to numpy array\n",
    "test_samples = np.array(test_samples)\n",
    "test_labels, test_samples = shuffle(test_labels, test_samples) # Shuffle around the values within each array"
   ]
  },
  {
   "cell_type": "code",
   "execution_count": 54,
   "metadata": {},
   "outputs": [],
   "source": [
    "scaler_test_samples = scaler.fit_transform(test_samples.reshape(-1, 1))"
   ]
  },
  {
   "cell_type": "markdown",
   "metadata": {},
   "source": [
    "### Show predictions of testing data"
   ]
  },
  {
   "cell_type": "code",
   "execution_count": 68,
   "metadata": {},
   "outputs": [],
   "source": [
    "predictions = model.predict(x=scaler_test_samples, batch_size=10, verbose=0)"
   ]
  },
  {
   "cell_type": "code",
   "execution_count": null,
   "metadata": {},
   "outputs": [],
   "source": [
    "for i in predictions:\n",
    "  print(i)"
   ]
  },
  {
   "cell_type": "code",
   "execution_count": 69,
   "metadata": {},
   "outputs": [],
   "source": [
    "rounded_predictions = np.argmax(predictions, axis=-1)"
   ]
  },
  {
   "cell_type": "code",
   "execution_count": null,
   "metadata": {},
   "outputs": [],
   "source": [
    "for i in rounded_predictions:\n",
    "  print(i)"
   ]
  },
  {
   "cell_type": "code",
   "execution_count": 58,
   "metadata": {},
   "outputs": [],
   "source": [
    "from sklearn.metrics import confusion_matrix\n",
    "import itertools\n",
    "import matplotlib.pyplot as plt"
   ]
  },
  {
   "cell_type": "markdown",
   "metadata": {},
   "source": [
    "### Confusion Matrix plotting"
   ]
  },
  {
   "cell_type": "code",
   "execution_count": 71,
   "metadata": {},
   "outputs": [],
   "source": [
    "cm = confusion_matrix(y_true=test_labels, y_pred=rounded_predictions)"
   ]
  },
  {
   "cell_type": "code",
   "execution_count": 72,
   "metadata": {},
   "outputs": [],
   "source": [
    "# plotting function from sklean documentation...useful\n",
    "def plot_confusion_matrix(cm, classes, normalize=False, title=\"Confusion matrix\", cmap=plt.cm.Blues):\n",
    "  plt.imshow(cm, interpolation='nearest', cmap=cmap)\n",
    "  plt.title(title)\n",
    "  plt.colorbar()\n",
    "  tick_marks = np.arange(len(classes))\n",
    "  plt.xticks(tick_marks, classes, rotation=25)\n",
    "  plt.yticks(tick_marks, classes)\n",
    "\n",
    "  if normalize:\n",
    "    cm = cm.astype('float') / cm.sum(axis=1)[:, np.newaxis]\n",
    "    print(\"Noramlized confusion matrix\")\n",
    "  else:\n",
    "    print(\"Confusion matrix, without normalization\")\n",
    "  \n",
    "  print(cm)\n",
    "\n",
    "  thresh = cm.max() / 2.\n",
    "  for i, j in itertools.product(range(cm.shape[0]), range(cm.shape[1])):\n",
    "    plt.text(j, i, cm[i,j], horizontalalignment='center', color='white' if cm[j, i] > thresh else \"black\")\n",
    "\n",
    "  plt.tight_layout()\n",
    "  plt.ylabel(\"True label\")\n",
    "  plt.xlabel(\"Predicted label\")\n"
   ]
  },
  {
   "cell_type": "code",
   "execution_count": 73,
   "metadata": {},
   "outputs": [
    {
     "name": "stdout",
     "output_type": "stream",
     "text": [
      "Confusion matrix, without normalization\n",
      "[[388  32]\n",
      " [ 20 400]]\n"
     ]
    },
    {
     "data": {
      "image/png": "[encoded data removed]",
      "text/plain": [
       "<Figure size 432x288 with 2 Axes>"
      ]
     },
     "metadata": {
      "needs_background": "light"
     },
     "output_type": "display_data"
    }
   ],
   "source": [
    "cm_plot_labels = ['no_side_effects', 'had_side_effects']\n",
    "plot_confusion_matrix(cm=cm, classes=cm_plot_labels)"
   ]
  },
  {
   "cell_type": "code",
   "execution_count": null,
   "metadata": {},
   "outputs": [],
   "source": [
    "import os.path\n",
    "if os.path.isfile('models/medical_trial_model.h5') is False:\n",
    "  model.save('models/medical_trial_model.h5')"
   ]
  },
  {
   "cell_type": "markdown",
   "metadata": {},
   "source": [
    "# Some ways to import and export models"
   ]
  },
  {
   "cell_type": "code",
   "execution_count": null,
   "metadata": {},
   "outputs": [],
   "source": [
    "from tensorflow.keras.models import load_model\n",
    "new_model = load_model('models/medical_trial_model.h5')"
   ]
  },
  {
   "cell_type": "code",
   "execution_count": null,
   "metadata": {},
   "outputs": [],
   "source": [
    "new_model.summary()"
   ]
  },
  {
   "cell_type": "code",
   "execution_count": null,
   "metadata": {},
   "outputs": [],
   "source": [
    "new_model.get_weights()"
   ]
  },
  {
   "cell_type": "code",
   "execution_count": null,
   "metadata": {},
   "outputs": [],
   "source": [
    "new_model.optimizer"
   ]
  },
  {
   "cell_type": "code",
   "execution_count": null,
   "metadata": {},
   "outputs": [],
   "source": [
    "json_string = model.to_json()"
   ]
  },
  {
   "cell_type": "code",
   "execution_count": null,
   "metadata": {},
   "outputs": [],
   "source": [
    "json_string"
   ]
  },
  {
   "cell_type": "code",
   "execution_count": null,
   "metadata": {},
   "outputs": [],
   "source": [
    "from tensorflow.keras.models import model_from_json\n",
    "model_architecture = model_from_json(json_string)"
   ]
  },
  {
   "cell_type": "code",
   "execution_count": null,
   "metadata": {},
   "outputs": [],
   "source": [
    "model_architecture.summary()"
   ]
  },
  {
   "cell_type": "code",
   "execution_count": null,
   "metadata": {},
   "outputs": [],
   "source": [
    "model_architecture.optimizer # NO OPTIMIZER OR WEIGHT"
   ]
  }
 ],
 "metadata": {
  "interpreter": {
   "hash": "b281d84a48fb2d389efa4a19e987f1041202e9425d6434cde82f15488b2f8833"
  },
  "kernelspec": {
   "display_name": "Python 3.9.12 ('Archipelago_Object_Tracking')",
   "language": "python",
   "name": "python3"
  },
  "language_info": {
   "codemirror_mode": {
    "name": "ipython",
    "version": 3
   },
   "file_extension": ".py",
   "mimetype": "text/x-python",
   "name": "python",
   "nbconvert_exporter": "python",
   "pygments_lexer": "ipython3",
   "version": "3.9.12"
  },
  "orig_nbformat": 4
 },
 "nbformat": 4,
 "nbformat_minor": 2
}

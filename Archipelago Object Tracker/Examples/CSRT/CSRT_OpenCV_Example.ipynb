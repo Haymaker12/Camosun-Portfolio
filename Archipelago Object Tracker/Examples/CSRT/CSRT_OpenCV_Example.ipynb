{
 "cells": [
  {
   "cell_type": "markdown",
   "metadata": {},
   "source": [
    "Setup Imports"
   ]
  },
  {
   "cell_type": "code",
   "execution_count": 1,
   "metadata": {},
   "outputs": [],
   "source": [
    "import cv2\n",
    "import sys\n",
    "import numpy as np\n",
    "from datetime import datetime"
   ]
  },
  {
   "cell_type": "markdown",
   "metadata": {},
   "source": [
    "Setup Tracker"
   ]
  },
  {
   "cell_type": "code",
   "execution_count": 2,
   "metadata": {},
   "outputs": [],
   "source": [
    "tracker = cv2.TrackerCSRT_create()\n",
    "\n",
    "# Read video\n",
    "video = cv2.VideoCapture('fish.avi') # Insert later\n",
    "\n",
    "# Exit if video not opened\n",
    "if not video.isOpened():\n",
    "    print(\"Could not open video\")\n",
    "    sys.exit()"
   ]
  },
  {
   "cell_type": "markdown",
   "metadata": {},
   "source": [
    "Setup Box"
   ]
  },
  {
   "cell_type": "code",
   "execution_count": 3,
   "metadata": {},
   "outputs": [],
   "source": [
    "# Read first frame\n",
    "ok, frame = video.read()\n",
    "\n",
    "fps = video.get(cv2.CAP_PROP_FPS)\n",
    "\n",
    "roi = cv2.selectROI(frame)\n",
    "\n",
    "if not ok:\n",
    "    print(\"Cannot read video file\")\n",
    "    sys.exit()\n",
    "\n",
    "mask = np.zeros(frame.shape[:2], dtype='uint8')\n",
    "\n",
    "# Define an intial bounding box\n",
    "bbox = (287, 23, 86, 320)\n",
    "bbox = cv2.selectROI(frame, False)\n",
    "\n",
    "cv2.rectangle(mask, (bbox[0],bbox[1]), (bbox[0]+bbox[2],bbox[1]+bbox[3]), 255, -1)\n",
    "\n",
    "# Initialize tracker with first frame and bounding box\n",
    "#ok = tracker.init(frame, bbox)"
   ]
  },
  {
   "cell_type": "markdown",
   "metadata": {},
   "source": [
    "Timestamp from Frame"
   ]
  },
  {
   "cell_type": "code",
   "execution_count": null,
   "metadata": {},
   "outputs": [],
   "source": [
    "class TimestampFromFrame:\n",
    "\n",
    "    # Function to get Timestamp from Frame input\n",
    "    def stampFromFrame(frame, capture):\n",
    "        time_stamp = frame / capture.get(cv2.CAP_PROP_FPS)\n",
    "        return time_stamp\n",
    "    #\n",
    "\n",
    "    def __init__(self, frame, capture):\n",
    "        self.frame = frame\n",
    "        self.capture = capture"
   ]
  },
  {
   "cell_type": "markdown",
   "metadata": {},
   "source": [
    "While Running"
   ]
  },
  {
   "cell_type": "code",
   "execution_count": null,
   "metadata": {},
   "outputs": [],
   "source": [
    "\n",
    "### While running\n",
    "\n",
    "\n",
    "while True:\n",
    "    # Read a new frame\n",
    "    ok, frame = video.read()\n",
    "    frame = cv2.bitwise_and(frame, frame, mask=mask)\n",
    "    if not ok:\n",
    "        break\n",
    "    # Start timer\n",
    "    timer = cv2.getTickCount()\n",
    "    # Update tracker\n",
    "    #ok, bbox = tracker.update(frame)\n",
    "    # Calculate FPS\n",
    "    fps = cv2.getTickFrequency() / (cv2.getTickCount() - timer);\n",
    "    # Draw bounding box\n",
    "    # if ok:\n",
    "    #     # Tracking success\n",
    "    #     p1 = (int(bbox[0]), int(bbox[1]))\n",
    "    #     p2 = (int(bbox[0]) + int(bbox[2]), int(bbox[1] + bbox[3]))\n",
    "    #     cv2.rectangle(frame, p1, p2, (255,0,0), 2 , 1)\n",
    "    # else:\n",
    "    #     # Tracking failure\n",
    "    #     cv2.putText(frame, \"Tracking failure detected\", (100,80), cv2.FONT_HERSHEY_SIMPLEX, 0.75, (0,0,255),2)\n",
    "    # Display result\n",
    "    cv2.imshow(\"Tracking\", frame)\n",
    "    # Exit of ESC is pressed\n",
    "    k = cv2.waitKey(1) & 0xff\n",
    "    if k == 27:\n",
    "        break\n"
   ]
  },
  {
   "cell_type": "markdown",
   "metadata": {},
   "source": [
    "End Code"
   ]
  },
  {
   "cell_type": "code",
   "execution_count": null,
   "metadata": {},
   "outputs": [],
   "source": [
    "\n",
    "cv2.destroyAllWindows()\n",
    "video.release()"
   ]
  }
 ],
 "metadata": {
  "interpreter": {
   "hash": "b281d84a48fb2d389efa4a19e987f1041202e9425d6434cde82f15488b2f8833"
  },
  "kernelspec": {
   "display_name": "Python 3.9.12 ('Archipelago_Object_Tracking')",
   "language": "python",
   "name": "python3"
  },
  "language_info": {
   "codemirror_mode": {
    "name": "ipython",
    "version": 3
   },
   "file_extension": ".py",
   "mimetype": "text/x-python",
   "name": "python",
   "nbconvert_exporter": "python",
   "pygments_lexer": "ipython3",
   "version": "3.9.12"
  },
  "orig_nbformat": 4
 },
 "nbformat": 4,
 "nbformat_minor": 2
}

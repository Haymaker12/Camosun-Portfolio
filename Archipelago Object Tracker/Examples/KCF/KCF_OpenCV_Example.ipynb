{
 "cells": [
  {
   "cell_type": "markdown",
   "metadata": {},
   "source": [
    "# KCF Object Tracking\n",
    "---\n",
    "KCF (Kernelized Correlation Filter) is one of OpenCV's object tracker which is combination of BOOSTING and MIL tracker. It's sufficiently fast and accurate, and stops tracking when object is lost."
   ]
  },
  {
   "cell_type": "code",
   "execution_count": 25,
   "metadata": {},
   "outputs": [],
   "source": [
    "import cv2\n",
    "import sys"
   ]
  },
  {
   "cell_type": "markdown",
   "metadata": {},
   "source": [
    "### Setup Tracker and Open Video file"
   ]
  },
  {
   "cell_type": "code",
   "execution_count": 22,
   "metadata": {},
   "outputs": [],
   "source": [
    "# create KCF tracker\n",
    "tracker = cv2.TrackerKCF_create()\n",
    "\n",
    "# Create a video capture object\n",
    "video = cv2.VideoCapture(0)\n",
    "\n",
    "# Check that video is opened\n",
    "if not video.isOpened():\n",
    "    print(\"Could not open video\")\n",
    "    sys.exit()\n",
    "\n",
    "# Read video with read() method\n",
    "ok, frame = video.read()\n",
    "if not ok:\n",
    "    print(\"Cannot read video file\")\n",
    "    sys.exit()\n",
    "\n",
    "# Set bounding box at the first frame of the video which is used for tracking\n",
    "bbox = cv2.selectROI(frame, False)\n",
    "# Start OpenCV object tracker with the bounding box\n",
    "ok = tracker.init(frame, bbox)"
   ]
  },
  {
   "cell_type": "markdown",
   "metadata": {},
   "source": [
    "### Tracking object with the Tracker"
   ]
  },
  {
   "cell_type": "code",
   "execution_count": 23,
   "metadata": {},
   "outputs": [],
   "source": [
    "while True:\n",
    "    ok, frame = video.read()\n",
    "    if not ok:\n",
    "        break\n",
    "    \n",
    "    # Set timer\n",
    "    timer = cv2.getTickCount()\n",
    "\n",
    "    # Update the frame\n",
    "    ok, bbox = tracker.update(frame)\n",
    "\n",
    "    # Calculate fps value\n",
    "    fps = cv2.getTickFrequency() / (cv2.getTickCount() - timer)\n",
    "\n",
    "    if ok:\n",
    "        p1 = (int(bbox[0]), int(bbox[1]))\n",
    "        p2 = (int(bbox[0] + bbox[2]), int(bbox[1] + bbox[3]))\n",
    "        # Put bounding box around the detected object\n",
    "        cv2.rectangle(frame, p1, p2, (255,0,0), 2 , 1)\n",
    "    else:\n",
    "        cv2.putText(frame, \"Tracking failure detected\", (100,80), cv2.FONT_HERSHEY_SIMPLEX, 0.75, (0,0,255),2)\n",
    "\n",
    "    cv2.putText(frame, \"KCF Tracker\", (100,20), cv2.FONT_HERSHEY_SIMPLEX, 0.75, (50,170,50),2)\n",
    "\n",
    "    cv2.putText(frame, \"FPS: \" + str(int(fps)), (100,50), cv2.FONT_HERSHEY_SIMPLEX, 0.75, (50,170,50),2)\n",
    "\n",
    "    # Display the frame in the window\n",
    "    cv2.imshow(\"Tracking\", frame)\n",
    "\n",
    "    # waitKey(x) wait for x millisecond (1000 = 1s)\n",
    "    # & 0xff makes to return only the last 8bits of the value\n",
    "    k = cv2.waitKey(1) & 0xff\n",
    "    if k == 27: break"
   ]
  },
  {
   "cell_type": "markdown",
   "metadata": {},
   "source": [
    "### Close the video window"
   ]
  },
  {
   "cell_type": "code",
   "execution_count": 24,
   "metadata": {},
   "outputs": [],
   "source": [
    "# Closes video file\n",
    "video.release()\n",
    "\n",
    "# Close all opened windows\n",
    "cv2.destroyAllWindows()"
   ]
  }
 ],
 "metadata": {
  "interpreter": {
   "hash": "62def48e81a9cca8f364c24dfb725fce9c4e9f1dbd488585f19795e5af0a0958"
  },
  "kernelspec": {
   "display_name": "Python 3.9.12 ('object_tracking.venv')",
   "language": "python",
   "name": "python3"
  },
  "language_info": {
   "codemirror_mode": {
    "name": "ipython",
    "version": 3
   },
   "file_extension": ".py",
   "mimetype": "text/x-python",
   "name": "python",
   "nbconvert_exporter": "python",
   "pygments_lexer": "ipython3",
   "version": "3.9.12"
  },
  "orig_nbformat": 4
 },
 "nbformat": 4,
 "nbformat_minor": 2
}

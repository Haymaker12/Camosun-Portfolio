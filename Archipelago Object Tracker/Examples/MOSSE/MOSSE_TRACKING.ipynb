{
 "cells": [
  {
   "cell_type": "markdown",
   "metadata": {},
   "source": [
    "# MOSSE Tracker Example\n",
    "---\n",
    "MOSSE (Minimum Output Sum of Squared Error) tracker\n",
    "The filter minimizes the sum of squared errors between the actual correlation output and the predicted correlation output. This tracker is robust to changes in lighting, scale, pose, and non-rigid deformations of the object."
   ]
  },
  {
   "cell_type": "code",
   "execution_count": 10,
   "metadata": {},
   "outputs": [],
   "source": [
    "import cv2"
   ]
  },
  {
   "cell_type": "markdown",
   "metadata": {},
   "source": [
    "### Setup tracker\n",
    "---\n",
    "The MOSSE tracker is auser contribution and requires the opencv-contrib-python package to use..."
   ]
  },
  {
   "cell_type": "code",
   "execution_count": 7,
   "metadata": {},
   "outputs": [],
   "source": [
    "tracker = cv2.legacy.TrackerMOSSE_create()\n",
    "\n",
    "video = cv2.VideoCapture(0)\n",
    "ret, frame = video.read()\n",
    "\n",
    "frame_height, frame_width = frame.shape[:2]"
   ]
  },
  {
   "cell_type": "markdown",
   "metadata": {},
   "source": [
    "### Set up Region of Interest"
   ]
  },
  {
   "cell_type": "code",
   "execution_count": 8,
   "metadata": {},
   "outputs": [],
   "source": [
    "if not ret:\n",
    "    print('cannot read the video')\n",
    "\n",
    "# Select the bounding box in the first frame\n",
    "bbox = cv2.selectROI(frame, False)\n",
    "ret = tracker.init(frame, bbox)"
   ]
  },
  {
   "cell_type": "code",
   "execution_count": 9,
   "metadata": {},
   "outputs": [],
   "source": [
    "while True:\n",
    "  ret, frame = video.read()\n",
    "  if not ret:\n",
    "    print('something went wrong')\n",
    "    break\n",
    "  timer = cv2.getTickCount()\n",
    "  ret, bbox = tracker.update(frame)\n",
    "  fps = cv2.getTickFrequency() / (cv2.getTickCount() - timer)\n",
    "  if ret:\n",
    "    p1 = (int(bbox[0]), int(bbox[1]))\n",
    "    p2 = (int(bbox[0] + bbox[2]), int(bbox[1] + bbox[3]))\n",
    "    cv2.rectangle(frame, p1, p2, (255,0,0), 2, 1)\n",
    "  else:\n",
    "    cv2.putText(frame, \"Tracking failure detected\", (10,80), \n",
    "                cv2.FONT_HERSHEY_SIMPLEX, 0.5,(0,0,255),1)\n",
    "  cv2.putText(frame, \"MOSSE Tracker\", (100,20), \n",
    "              cv2.FONT_HERSHEY_SIMPLEX, 0.5, (255,255,255),2)\n",
    "  cv2.putText(frame, \"FPS : \" + str(int(fps)), (100,50), \n",
    "              cv2.FONT_HERSHEY_SIMPLEX, 0.5, (255,255,255),2)\n",
    "  cv2.imshow(\"Tracking\", frame)\n",
    "  k = cv2.waitKey(1) & 0xff\n",
    "  if k == 27 : break\n",
    "\n",
    "video.release()\n",
    "cv2.destroyAllWindows()"
   ]
  }
 ],
 "metadata": {
  "interpreter": {
   "hash": "b281d84a48fb2d389efa4a19e987f1041202e9425d6434cde82f15488b2f8833"
  },
  "kernelspec": {
   "display_name": "Python 3.9.12 ('Archipelago_Object_Tracking')",
   "language": "python",
   "name": "python3"
  },
  "language_info": {
   "codemirror_mode": {
    "name": "ipython",
    "version": 3
   },
   "file_extension": ".py",
   "mimetype": "text/x-python",
   "name": "python",
   "nbconvert_exporter": "python",
   "pygments_lexer": "ipython3",
   "version": "3.9.12"
  },
  "orig_nbformat": 4
 },
 "nbformat": 4,
 "nbformat_minor": 2
}
